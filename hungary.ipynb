{
 "cells": [
  {
   "cell_type": "markdown",
   "id": "f5e7b31f-34ca-433f-b444-a181de5390e1",
   "metadata": {
    "tags": []
   },
   "source": [
    "# Nationwide effectiveness of five SARS-CoV-2 vaccines in Hungary - The HUN-VE study\n",
    "Vokó et al.  \n",
    "Clin Microbiol Infect 2021 Nov 24  \n",
    "https://doi.org/10.1016/j.cmi.2021.11.011"
   ]
  },
  {
   "cell_type": "markdown",
   "id": "5a587062-aec9-4f9e-adba-3debfc4d9dd8",
   "metadata": {},
   "source": [
    "## Abstract excerpt\n",
    "The Hungarian vaccination campaign was conducted with five different vaccines during the third wave of the Covid-19 pandemic in 2021. This observational study (HUN-VE: Hungarian Vaccine Effectiveness) estimated vaccine effectiveness against SARS-CoV-2 infection and Covid-19 related mortality in **3.7 million vaccinated individuals**."
   ]
  },
  {
   "cell_type": "markdown",
   "id": "923176ff-4069-4e76-8c94-530bba23dcb9",
   "metadata": {},
   "source": [
    "## A brief summary of \n",
    "> Table 2. Estimated unadjusted and adjusted effectiveness of five different vaccine types against SARS-CoV-2 infection and Covid-19 related death in the fully vaccinated study population ≥7 days after the second dose in Hungary.\n",
    "\n",
    "[![by-nc-sa_80x15.png](data:image/png;base64,iVBORw0KGgoAAAANSUhEUgAAAFAAAAAPCAMAAABEF7i9AAAABGdBTUEAANbY1E9YMgAAAJZQTFRF////7u7u3d3dys7KzMzMyMzIxsrGxcbFur+6u7u7s7iyq7GqqqqqmZmZlJmTj5CPiIiIh4eHhoaGgICAfYJ9d3d3cnZxZ2tnZmZmW15bVVVVS0xLREREQ0NDQkJCQUJBOz07OTs5MzMzMTMxLjAuJygnJCUjIiIiISEhICAgGRkZERERDxAPDg4ODQ4NDQ0NDQ0MAAAADbeuvgAAAOhJREFUeNqtk+tyAiEMhQ+6XtroutZiveBdu+p2tXn/l3OQy8roL5fMMENC+HIIAI5sYEQ1DSRtP5zZkCpToubf2/oMMC0zX0QdiLqjmsD1sVKd8JSoNa8HvGRIclZCcZ5A7Yiag/s6oJPMYD8FKgIC3wG/+QP5DFIWot+DvBB1OxYAk+W2W88HqqwAOOZE6FuZbfWZZUn02fb1rTAHc3izZgQCrxWqSSFkH/IaKuSHEzEChfyk2PbwmqFX8EQo3jaw2Ac9DIFhD12Tn4CbU+RbTv+HHrj8jfAOacxflrc61/0psf9yZLsBr5WUrhUa3hEAAAAASUVORK5CYII=)](https://creativecommons.org/licenses/by-sa/4.0/deed.es_ES) \n",
    "2021 [Víctor A. Bettachini](mailto:victorb@gmx.net)  "
   ]
  },
  {
   "cell_type": "code",
   "execution_count": 3,
   "id": "aebf60e2-3b1e-4674-9425-7f70bccf4be4",
   "metadata": {
    "tags": []
   },
   "outputs": [],
   "source": [
    "import pandas as pd"
   ]
  },
  {
   "cell_type": "code",
   "execution_count": 4,
   "id": "cdbd1940-0ec5-40a3-a080-f3f775d47ec7",
   "metadata": {
    "tags": []
   },
   "outputs": [],
   "source": [
    "name_list = ['Pfizer-BioNTech', 'Moderna', 'Sputnik-V', 'AstraZeneca', 'Sinopharm']\n",
    "infection = [83.3, 88.7, 85.7, 71.5, 68.7]\n",
    "mortality = [90.6, 93.6, 97.5, 88.3, 87.8]\n",
    "zipped = list( zip( name_list, infection, mortality) ) "
   ]
  },
  {
   "cell_type": "code",
   "execution_count": 17,
   "id": "13c9787e-f596-45e5-9e76-f325b75a81cd",
   "metadata": {
    "tags": []
   },
   "outputs": [
    {
     "data": {
      "text/html": [
       "<style type=\"text/css\">\n",
       "</style>\n",
       "<table id=\"T_6a898_\">\n",
       "  <caption>Adjusted effectiveness [%]</caption>\n",
       "  <thead>\n",
       "    <tr>\n",
       "      <th class=\"blank level0\" >&nbsp;</th>\n",
       "      <th class=\"col_heading level0 col0\" >Infection</th>\n",
       "      <th class=\"col_heading level0 col1\" >Mortality</th>\n",
       "    </tr>\n",
       "    <tr>\n",
       "      <th class=\"index_name level0\" >Name</th>\n",
       "      <th class=\"blank col0\" >&nbsp;</th>\n",
       "      <th class=\"blank col1\" >&nbsp;</th>\n",
       "    </tr>\n",
       "  </thead>\n",
       "  <tbody>\n",
       "    <tr>\n",
       "      <th id=\"T_6a898_level0_row0\" class=\"row_heading level0 row0\" >Pfizer-BioNTech</th>\n",
       "      <td id=\"T_6a898_row0_col0\" class=\"data row0 col0\" >83.3</td>\n",
       "      <td id=\"T_6a898_row0_col1\" class=\"data row0 col1\" >90.6</td>\n",
       "    </tr>\n",
       "    <tr>\n",
       "      <th id=\"T_6a898_level0_row1\" class=\"row_heading level0 row1\" >Moderna</th>\n",
       "      <td id=\"T_6a898_row1_col0\" class=\"data row1 col0\" >88.7</td>\n",
       "      <td id=\"T_6a898_row1_col1\" class=\"data row1 col1\" >93.6</td>\n",
       "    </tr>\n",
       "    <tr>\n",
       "      <th id=\"T_6a898_level0_row2\" class=\"row_heading level0 row2\" >Sputnik-V</th>\n",
       "      <td id=\"T_6a898_row2_col0\" class=\"data row2 col0\" >85.7</td>\n",
       "      <td id=\"T_6a898_row2_col1\" class=\"data row2 col1\" >97.5</td>\n",
       "    </tr>\n",
       "    <tr>\n",
       "      <th id=\"T_6a898_level0_row3\" class=\"row_heading level0 row3\" >AstraZeneca</th>\n",
       "      <td id=\"T_6a898_row3_col0\" class=\"data row3 col0\" >71.5</td>\n",
       "      <td id=\"T_6a898_row3_col1\" class=\"data row3 col1\" >88.3</td>\n",
       "    </tr>\n",
       "    <tr>\n",
       "      <th id=\"T_6a898_level0_row4\" class=\"row_heading level0 row4\" >Sinopharm</th>\n",
       "      <td id=\"T_6a898_row4_col0\" class=\"data row4 col0\" >68.7</td>\n",
       "      <td id=\"T_6a898_row4_col1\" class=\"data row4 col1\" >87.8</td>\n",
       "    </tr>\n",
       "  </tbody>\n",
       "</table>\n"
      ],
      "text/plain": [
       "<pandas.io.formats.style.Styler at 0x7f200c1dd130>"
      ]
     },
     "execution_count": 17,
     "metadata": {},
     "output_type": "execute_result"
    }
   ],
   "source": [
    "df = pd.DataFrame(zipped, columns=['Name', 'Infection', 'Mortality'])\n",
    "df = df.set_index('Name')\n",
    "df = df.style.set_caption(\"Adjusted effectiveness [%]\")\n",
    "pd.io.formats.style.Styler.format(df, '{:.1f}')\n",
    "df"
   ]
  }
 ],
 "metadata": {
  "kernelspec": {
   "display_name": "Python 3 (ipykernel)",
   "language": "python",
   "name": "python3"
  },
  "language_info": {
   "codemirror_mode": {
    "name": "ipython",
    "version": 3
   },
   "file_extension": ".py",
   "mimetype": "text/x-python",
   "name": "python",
   "nbconvert_exporter": "python",
   "pygments_lexer": "ipython3",
   "version": "3.9.2"
  }
 },
 "nbformat": 4,
 "nbformat_minor": 5
}
